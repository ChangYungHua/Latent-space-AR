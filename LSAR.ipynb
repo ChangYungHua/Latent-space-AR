{
  "nbformat": 4,
  "nbformat_minor": 0,
  "metadata": {
    "colab": {
      "name": "LSAR.ipynb",
      "provenance": [],
      "collapsed_sections": []
    },
    "kernelspec": {
      "name": "python3",
      "display_name": "Python 3"
    },
    "language_info": {
      "codemirror_mode": {
        "name": "ipython",
        "version": 3
      },
      "file_extension": ".py",
      "mimetype": "text/x-python",
      "name": "python",
      "nbconvert_exporter": "python",
      "pygments_lexer": "ipython3",
      "version": "3.6.9"
    },
    "accelerator": "GPU"
  },
  "cells": [
    {
      "cell_type": "code",
      "metadata": {
        "id": "1lhxvKXR4Qsj",
        "outputId": "043b8f6f-bd8e-4329-b1ed-3744c598d943",
        "colab": {
          "base_uri": "https://localhost:8080/",
          "height": 269
        }
      },
      "source": [
        "!pip uninstall tensorflow"
      ],
      "execution_count": null,
      "outputs": [
        {
          "output_type": "stream",
          "text": [
            "Uninstalling tensorflow-1.15.0:\n",
            "  Would remove:\n",
            "    /usr/local/bin/estimator_ckpt_converter\n",
            "    /usr/local/bin/freeze_graph\n",
            "    /usr/local/bin/saved_model_cli\n",
            "    /usr/local/bin/tensorboard\n",
            "    /usr/local/bin/tf_upgrade_v2\n",
            "    /usr/local/bin/tflite_convert\n",
            "    /usr/local/bin/toco\n",
            "    /usr/local/bin/toco_from_protos\n",
            "    /usr/local/lib/python3.6/dist-packages/tensorflow-1.15.0.dist-info/*\n",
            "    /usr/local/lib/python3.6/dist-packages/tensorflow/*\n",
            "    /usr/local/lib/python3.6/dist-packages/tensorflow_core/*\n",
            "Proceed (y/n)? y\n",
            "  Successfully uninstalled tensorflow-1.15.0\n"
          ],
          "name": "stdout"
        }
      ]
    },
    {
      "cell_type": "code",
      "metadata": {
        "id": "nztgwFsD4Z4B",
        "outputId": "de5d2032-c9c6-49a4-a6d5-e49921ba9b60",
        "colab": {
          "base_uri": "https://localhost:8080/",
          "height": 1000
        }
      },
      "source": [
        "!pip install tensorflow-gpu==2.0.0"
      ],
      "execution_count": null,
      "outputs": [
        {
          "output_type": "stream",
          "text": [
            "Collecting tensorflow-gpu==2.0.0\n",
            "\u001b[?25l  Downloading https://files.pythonhosted.org/packages/25/44/47f0722aea081697143fbcf5d2aa60d1aee4aaacb5869aee2b568974777b/tensorflow_gpu-2.0.0-cp36-cp36m-manylinux2010_x86_64.whl (380.8MB)\n",
            "\u001b[K     |████████████████████████████████| 380.8MB 47kB/s \n",
            "\u001b[?25hRequirement already satisfied: grpcio>=1.8.6 in /usr/local/lib/python3.6/dist-packages (from tensorflow-gpu==2.0.0) (1.15.0)\n",
            "Collecting tensorboard<2.1.0,>=2.0.0\n",
            "\u001b[?25l  Downloading https://files.pythonhosted.org/packages/76/54/99b9d5d52d5cb732f099baaaf7740403e83fe6b0cedde940fabd2b13d75a/tensorboard-2.0.2-py3-none-any.whl (3.8MB)\n",
            "\u001b[K     |████████████████████████████████| 3.8MB 34.8MB/s \n",
            "\u001b[?25hRequirement already satisfied: gast==0.2.2 in /usr/local/lib/python3.6/dist-packages (from tensorflow-gpu==2.0.0) (0.2.2)\n",
            "Requirement already satisfied: numpy<2.0,>=1.16.0 in /usr/local/lib/python3.6/dist-packages (from tensorflow-gpu==2.0.0) (1.17.4)\n",
            "Requirement already satisfied: protobuf>=3.6.1 in /usr/local/lib/python3.6/dist-packages (from tensorflow-gpu==2.0.0) (3.10.0)\n",
            "Requirement already satisfied: absl-py>=0.7.0 in /usr/local/lib/python3.6/dist-packages (from tensorflow-gpu==2.0.0) (0.8.1)\n",
            "Requirement already satisfied: wrapt>=1.11.1 in /usr/local/lib/python3.6/dist-packages (from tensorflow-gpu==2.0.0) (1.11.2)\n",
            "Requirement already satisfied: google-pasta>=0.1.6 in /usr/local/lib/python3.6/dist-packages (from tensorflow-gpu==2.0.0) (0.1.8)\n",
            "Requirement already satisfied: keras-preprocessing>=1.0.5 in /usr/local/lib/python3.6/dist-packages (from tensorflow-gpu==2.0.0) (1.1.0)\n",
            "Requirement already satisfied: termcolor>=1.1.0 in /usr/local/lib/python3.6/dist-packages (from tensorflow-gpu==2.0.0) (1.1.0)\n",
            "Requirement already satisfied: six>=1.10.0 in /usr/local/lib/python3.6/dist-packages (from tensorflow-gpu==2.0.0) (1.12.0)\n",
            "Requirement already satisfied: keras-applications>=1.0.8 in /usr/local/lib/python3.6/dist-packages (from tensorflow-gpu==2.0.0) (1.0.8)\n",
            "Requirement already satisfied: wheel>=0.26 in /usr/local/lib/python3.6/dist-packages (from tensorflow-gpu==2.0.0) (0.33.6)\n",
            "Collecting tensorflow-estimator<2.1.0,>=2.0.0\n",
            "\u001b[?25l  Downloading https://files.pythonhosted.org/packages/fc/08/8b927337b7019c374719145d1dceba21a8bb909b93b1ad6f8fb7d22c1ca1/tensorflow_estimator-2.0.1-py2.py3-none-any.whl (449kB)\n",
            "\u001b[K     |████████████████████████████████| 450kB 68.4MB/s \n",
            "\u001b[?25hRequirement already satisfied: astor>=0.6.0 in /usr/local/lib/python3.6/dist-packages (from tensorflow-gpu==2.0.0) (0.8.1)\n",
            "Requirement already satisfied: opt-einsum>=2.3.2 in /usr/local/lib/python3.6/dist-packages (from tensorflow-gpu==2.0.0) (3.1.0)\n",
            "Requirement already satisfied: werkzeug>=0.11.15 in /usr/local/lib/python3.6/dist-packages (from tensorboard<2.1.0,>=2.0.0->tensorflow-gpu==2.0.0) (0.16.0)\n",
            "Requirement already satisfied: setuptools>=41.0.0 in /usr/local/lib/python3.6/dist-packages (from tensorboard<2.1.0,>=2.0.0->tensorflow-gpu==2.0.0) (42.0.2)\n",
            "Requirement already satisfied: requests<3,>=2.21.0 in /usr/local/lib/python3.6/dist-packages (from tensorboard<2.1.0,>=2.0.0->tensorflow-gpu==2.0.0) (2.21.0)\n",
            "Requirement already satisfied: google-auth-oauthlib<0.5,>=0.4.1 in /usr/local/lib/python3.6/dist-packages (from tensorboard<2.1.0,>=2.0.0->tensorflow-gpu==2.0.0) (0.4.1)\n",
            "Requirement already satisfied: markdown>=2.6.8 in /usr/local/lib/python3.6/dist-packages (from tensorboard<2.1.0,>=2.0.0->tensorflow-gpu==2.0.0) (3.1.1)\n",
            "Collecting google-auth<2,>=1.6.3\n",
            "\u001b[?25l  Downloading https://files.pythonhosted.org/packages/36/f8/84b5771faec3eba9fe0c91c8c5896364a8ba08852c0dea5ad2025026dd95/google_auth-1.10.0-py2.py3-none-any.whl (76kB)\n",
            "\u001b[K     |████████████████████████████████| 81kB 10.9MB/s \n",
            "\u001b[?25hRequirement already satisfied: h5py in /usr/local/lib/python3.6/dist-packages (from keras-applications>=1.0.8->tensorflow-gpu==2.0.0) (2.8.0)\n",
            "Requirement already satisfied: urllib3<1.25,>=1.21.1 in /usr/local/lib/python3.6/dist-packages (from requests<3,>=2.21.0->tensorboard<2.1.0,>=2.0.0->tensorflow-gpu==2.0.0) (1.24.3)\n",
            "Requirement already satisfied: idna<2.9,>=2.5 in /usr/local/lib/python3.6/dist-packages (from requests<3,>=2.21.0->tensorboard<2.1.0,>=2.0.0->tensorflow-gpu==2.0.0) (2.8)\n",
            "Requirement already satisfied: chardet<3.1.0,>=3.0.2 in /usr/local/lib/python3.6/dist-packages (from requests<3,>=2.21.0->tensorboard<2.1.0,>=2.0.0->tensorflow-gpu==2.0.0) (3.0.4)\n",
            "Requirement already satisfied: certifi>=2017.4.17 in /usr/local/lib/python3.6/dist-packages (from requests<3,>=2.21.0->tensorboard<2.1.0,>=2.0.0->tensorflow-gpu==2.0.0) (2019.11.28)\n",
            "Requirement already satisfied: requests-oauthlib>=0.7.0 in /usr/local/lib/python3.6/dist-packages (from google-auth-oauthlib<0.5,>=0.4.1->tensorboard<2.1.0,>=2.0.0->tensorflow-gpu==2.0.0) (1.3.0)\n",
            "Requirement already satisfied: pyasn1-modules>=0.2.1 in /usr/local/lib/python3.6/dist-packages (from google-auth<2,>=1.6.3->tensorboard<2.1.0,>=2.0.0->tensorflow-gpu==2.0.0) (0.2.7)\n",
            "Requirement already satisfied: cachetools<5.0,>=2.0.0 in /usr/local/lib/python3.6/dist-packages (from google-auth<2,>=1.6.3->tensorboard<2.1.0,>=2.0.0->tensorflow-gpu==2.0.0) (4.0.0)\n",
            "Requirement already satisfied: rsa<4.1,>=3.1.4 in /usr/local/lib/python3.6/dist-packages (from google-auth<2,>=1.6.3->tensorboard<2.1.0,>=2.0.0->tensorflow-gpu==2.0.0) (4.0)\n",
            "Requirement already satisfied: oauthlib>=3.0.0 in /usr/local/lib/python3.6/dist-packages (from requests-oauthlib>=0.7.0->google-auth-oauthlib<0.5,>=0.4.1->tensorboard<2.1.0,>=2.0.0->tensorflow-gpu==2.0.0) (3.1.0)\n",
            "Requirement already satisfied: pyasn1<0.5.0,>=0.4.6 in /usr/local/lib/python3.6/dist-packages (from pyasn1-modules>=0.2.1->google-auth<2,>=1.6.3->tensorboard<2.1.0,>=2.0.0->tensorflow-gpu==2.0.0) (0.4.8)\n",
            "\u001b[31mERROR: tensorboard 2.0.2 has requirement grpcio>=1.24.3, but you'll have grpcio 1.15.0 which is incompatible.\u001b[0m\n",
            "\u001b[31mERROR: google-colab 1.0.0 has requirement google-auth~=1.4.0, but you'll have google-auth 1.10.0 which is incompatible.\u001b[0m\n",
            "Installing collected packages: google-auth, tensorboard, tensorflow-estimator, tensorflow-gpu\n",
            "  Found existing installation: google-auth 1.4.2\n",
            "    Uninstalling google-auth-1.4.2:\n",
            "      Successfully uninstalled google-auth-1.4.2\n",
            "  Found existing installation: tensorboard 1.15.0\n",
            "    Uninstalling tensorboard-1.15.0:\n",
            "      Successfully uninstalled tensorboard-1.15.0\n",
            "  Found existing installation: tensorflow-estimator 1.15.1\n",
            "    Uninstalling tensorflow-estimator-1.15.1:\n",
            "      Successfully uninstalled tensorflow-estimator-1.15.1\n",
            "Successfully installed google-auth-1.10.0 tensorboard-2.0.2 tensorflow-estimator-2.0.1 tensorflow-gpu-2.0.0\n"
          ],
          "name": "stdout"
        },
        {
          "output_type": "display_data",
          "data": {
            "application/vnd.colab-display-data+json": {
              "pip_warning": {
                "packages": [
                  "google"
                ]
              }
            }
          },
          "metadata": {
            "tags": []
          }
        }
      ]
    },
    {
      "cell_type": "code",
      "metadata": {
        "id": "2X4Dl2knYKXE"
      },
      "source": [
        "import tensorflow as tf\n",
        "from tensorflow.keras import layers\n",
        "import time\n",
        "import numpy as np\n",
        "from pathlib import Path\n",
        "import matplotlib.pyplot as plt\n",
        "from matplotlib import gridspec\n",
        "import matplotlib.patches as mpatches\n",
        "import os \n",
        "\n",
        "from sklearn.metrics import roc_auc_score\n",
        "from sklearn.model_selection import cross_val_score, GridSearchCV, KFold, RandomizedSearchCV, train_test_split\n",
        "import random\n"
      ],
      "execution_count": null,
      "outputs": []
    },
    {
      "cell_type": "code",
      "metadata": {
        "id": "rMNK0LerYKXI",
        "outputId": "4d923808-01fa-46c7-f90b-a4fac6fa432a",
        "colab": {
          "base_uri": "https://localhost:8080/",
          "height": 50
        }
      },
      "source": [
        "'''\n",
        "config = tf.compat.v1.ConfigProto()\n",
        "config.gpu_options.allow_growth = True\n",
        "sess = tf.compat.v1.Session(config=config)\n",
        "config = tf.compat.v1.ConfigProto()\n",
        "config.gpu_options.per_process_gpu_memory_fraction = 0.95\n",
        "tf.compat.v1.Session(config=config)\n",
        "os.environ[\"CUDA_VISIBLE_DEVICES\"] = \"0\"\n",
        "\n",
        "'''\n",
        "version = tf.__version__\n",
        "gpu_ok = tf.test.is_gpu_available()\n",
        "\n",
        "print(\"tf version:\",version,\"\\nuse GPU\",gpu_ok)\n"
      ],
      "execution_count": null,
      "outputs": [
        {
          "output_type": "stream",
          "text": [
            "tf version: 2.0.0 \n",
            "use GPU True\n"
          ],
          "name": "stdout"
        }
      ]
    },
    {
      "cell_type": "code",
      "metadata": {
        "id": "GpjK6178YKXL",
        "outputId": "7b8bdb0b-49e0-40ad-a2fc-9b6a0b9013a3",
        "colab": {
          "base_uri": "https://localhost:8080/",
          "height": 101
        }
      },
      "source": [
        "print(\"Loading data...\")\n",
        "(x_train, y_train), (x_test, y_test) = tf.keras.datasets.mnist.load_data()\n",
        "\n",
        "x_train = x_train.astype('float32') / 255.\n",
        "x_test = x_test.astype('float32') / 255.\n",
        "\n",
        "x_train, x_val, y_train, y_val =  train_test_split(x_train, y_train, test_size = 0.33, random_state = 42)\n",
        "x_train = x_train[y_train==3]\n",
        "x_val = x_val[y_val==3]\n",
        "\n",
        "img_size = x_train.shape[1]\n",
        "x_train = x_train.reshape((-1, img_size * img_size))\n",
        "x_test = x_test.reshape((-1, img_size * img_size))\n",
        "\n",
        "train_buf = x_train.shape[0]\n",
        "print(x_train.shape)\n",
        "print(train_buf)\n",
        "batch_size = 128\n",
        "train_dataset = tf.data.Dataset.from_tensor_slices(x_train)\n",
        "train_dataset = train_dataset.shuffle(buffer_size=train_buf)\n",
        "train_dataset = train_dataset.batch(batch_size)"
      ],
      "execution_count": null,
      "outputs": [
        {
          "output_type": "stream",
          "text": [
            "Loading data...\n",
            "Downloading data from https://storage.googleapis.com/tensorflow/tf-keras-datasets/mnist.npz\n",
            "11493376/11490434 [==============================] - 0s 0us/step\n",
            "(4096, 784)\n",
            "4096\n"
          ],
          "name": "stdout"
        }
      ]
    },
    {
      "cell_type": "code",
      "metadata": {
        "id": "ZzninE9GYKXO"
      },
      "source": [
        "n, p = x_train.shape\n",
        "d = 32\n",
        "B = 100 # Bin\n",
        "fm_list = [32, 32, 32, 32]"
      ],
      "execution_count": null,
      "outputs": []
    },
    {
      "cell_type": "code",
      "metadata": {
        "id": "KOHfoCnJYKXQ"
      },
      "source": [
        "def downsampleblock(input_, h_dim):\n",
        "    x = tf.keras.layers.Conv2D(h_dim, (3, 3), strides = 1, padding='same', use_bias = True)(input_)\n",
        "    x = tf.keras.layers.BatchNormalization()(x)\n",
        "    x = tf.keras.layers.LeakyReLU()(x)\n",
        "    x = tf.keras.layers.Conv2D(h_dim, (1, 1), strides = 2, padding='valid', use_bias = True)(x)\n",
        "    x = tf.keras.layers.BatchNormalization()(x)\n",
        "    \n",
        "    y = tf.keras.layers.Conv2D(h_dim, (3, 3), strides = 2, padding='same', use_bias = True)(input_)\n",
        "    y = tf.keras.layers.BatchNormalization()(y)\n",
        "    \n",
        "    o = tf.keras.layers.Add()([x, y])\n",
        "    o = tf.keras.layers.LeakyReLU()(o)\n",
        "    return o\n",
        "\n",
        "def upsampleblock(input_, h_dim):\n",
        "    x = tf.keras.layers.Conv2DTranspose(h_dim, (5, 5), strides=1, padding='same', use_bias = True)(input_)\n",
        "    x = tf.keras.layers.BatchNormalization()(x)\n",
        "    x = tf.keras.layers.LeakyReLU()(x)\n",
        "    x = tf.keras.layers.Conv2DTranspose(h_dim, (1, 1), strides=2, padding='same', use_bias = True)(x)\n",
        "    x = tf.keras.layers.BatchNormalization()(x)\n",
        "    \n",
        "    y = tf.keras.layers.Conv2D(h_dim, (3, 3), strides=1, padding='same', use_bias = True)(input_)\n",
        "    y = tf.keras.layers.UpSampling2D((2, 2))(y)\n",
        "    y = tf.keras.layers.BatchNormalization()(y)\n",
        "    \n",
        "    o = tf.keras.layers.Add()([x, y])\n",
        "    o = tf.keras.layers.LeakyReLU()(o)\n",
        "    return o\n",
        "\n",
        "def residualblock(input_):\n",
        "    x = tf.keras.layers.Conv2D(h_dim[0], (3, 3), strides=1, padding='same')(input_)\n",
        "    x = tf.keras.layers.BatchNormalization()(x)\n",
        "    x = tf.keras.layers.LeakyReLU()(x)\n",
        "    x = tf.keras.layers.Conv2D(h_dim[0], (3, 3), strides=1, padding='same')(x)\n",
        "    x = tf.keras.layers.BatchNormalization()(x)\n",
        "    \n",
        "    o = tf.keras.layers.Add()([x, input_])\n",
        "    o = tf.keras.layers.LeakyReLU()(o)\n",
        "    return o"
      ],
      "execution_count": null,
      "outputs": []
    },
    {
      "cell_type": "code",
      "metadata": {
        "id": "QOu4x_jfYKXU"
      },
      "source": [
        "def MaskedFullyConnection(x, w, mask_type = 'B'):\n",
        "\n",
        "    _, d, c_in = x.shape\n",
        "    d_co, _ = w.shape  #w.shape = (c_out*d) * (c_in*d)\n",
        "    c_out = d_co//d\n",
        "\n",
        "    x = tf.reshape(x, [-1, d * c_in] )\n",
        "\n",
        "    mask_0 = tf.zeros_like(w)\n",
        "    mask_1 = tf.ones_like(w)\n",
        "    j = 0\n",
        "    for f in range(d):\n",
        "        start_row = f * c_out\n",
        "        end_row = (f+1) * c_out\n",
        "        start_col = 0\n",
        "        end_col = f * c_in if mask_type == 'A' else (f+1) * c_in\n",
        "        '''相當於mask[start_row:end_row, start_col:end_col] = 1；其他是0 '''\n",
        "        sub_mask_1 = mask_1[start_row:end_row, start_col:end_col]\n",
        "        sub_mask_0 = mask_0[start_row:end_row, end_col:]\n",
        "        sub_mask = tf.concat([sub_mask_1,sub_mask_0], axis = 1)\n",
        "        if j==0:\n",
        "            mask = sub_mask\n",
        "        else:\n",
        "            mask = tf.concat([mask,sub_mask], axis = 0)\n",
        "        j = j + 1\n",
        "    mask_w = tf.multiply(mask, w)\n",
        "    mask_w = tf.transpose(mask_w, [1,0]) #(c_in*d) * (c_out*d)\n",
        "    output = tf.matmul(x, mask_w)\n",
        "    output = tf.reshape(output, [-1, d , c_out] ) ##x = N*d*c\n",
        "    \n",
        "\n",
        "                            \n",
        "    return output"
      ],
      "execution_count": null,
      "outputs": []
    },
    {
      "cell_type": "code",
      "metadata": {
        "id": "RgCq_ZviYKXW"
      },
      "source": [
        "class MFC(layers.Layer):\n",
        "    def __init__(self, mask_type = 'B', c_in = 1, c_out = 5, latent_dim = d):\n",
        "        super(MFC, self).__init__()\n",
        "        self.w = self.add_weight(shape=(latent_dim * c_out, latent_dim * c_in), initializer='random_normal', trainable=True)\n",
        "        self.type = mask_type\n",
        "    def call(self, inputs):\n",
        "        output = MaskedFullyConnection(inputs, self.w, self.type )\n",
        "        output = tf.nn.relu(output)\n",
        "        return output\n"
      ],
      "execution_count": null,
      "outputs": []
    },
    {
      "cell_type": "code",
      "metadata": {
        "id": "te-Fh9GuYKXY",
        "outputId": "179f58b2-cfee-490d-f71c-4c83003b877e",
        "colab": {
          "base_uri": "https://localhost:8080/",
          "height": 50
        }
      },
      "source": [
        "def make_encoder():\n",
        "\n",
        "    inputs = tf.keras.Input(shape=(p,), name='inputs')\n",
        "    x = tf.reshape(inputs, shape = (-1, img_size, img_size, 1))\n",
        "    #print(x.shape)\n",
        "    x = downsampleblock(x, d)\n",
        "    #print(x.shape)\n",
        "    x = downsampleblock(x, d)\n",
        "    #print(x.shape)\n",
        "    x = tf.reshape(x, shape = (-1, 7 * 7 * d))\n",
        "    #print(x.shape)\n",
        "    \n",
        "    x = tf.keras.layers.Dense(d*2)(x)\n",
        "    #print(x.shape)\n",
        "    x = tf.keras.layers.BatchNormalization()(x)\n",
        "    x = tf.keras.layers.LeakyReLU()(x)\n",
        "    x = tf.keras.layers.Dense(d, activation='sigmoid')(x)\n",
        "    #print(x.shape)\n",
        "    print(\"\")\n",
        "    model = tf.keras.Model(inputs=inputs, outputs=x)\n",
        "\n",
        "    return model    \n",
        "   \n",
        "def make_decoder():\n",
        "\n",
        "    inputs = tf.keras.Input(shape=(d,), name='inputs')\n",
        "    #print(inputs.shape)\n",
        "    x = tf.keras.layers.Dense(d*2)(inputs)\n",
        "    #print(x.shape)\n",
        "    x = tf.keras.layers.BatchNormalization()(x)\n",
        "    x = tf.keras.layers.LeakyReLU()(x)\n",
        "    x = tf.keras.layers.Dense(d*7*7)(x)\n",
        "    #print(x.shape)\n",
        "    x = tf.keras.layers.BatchNormalization()(x)\n",
        "    x = tf.keras.layers.LeakyReLU()(x)\n",
        "\n",
        "    x = tf.reshape(x, shape = (-1, 7, 7, d))\n",
        "    #print(x.shape)\n",
        "    x = upsampleblock(x, d)\n",
        "    #print(x.shape)\n",
        "    x = upsampleblock(x, d)\n",
        "    #print(x.shape)\n",
        "    x = tf.keras.layers.Conv2D(1, (1, 1), strides=1, padding='same')(x)\n",
        "    #print(x.shape)\n",
        "    x = tf.reshape(x, shape = (-1, p))\n",
        "    #print(x.shape)\n",
        "    model = tf.keras.Model(inputs=inputs, outputs=x)\n",
        "\n",
        "    return model \n",
        "        \n",
        "        \n",
        "def make_estimator():      \n",
        "    inputs = tf.keras.Input(shape=(d,), name='inputs')\n",
        "    print('make_estimator')\n",
        "\n",
        "    x = tf.expand_dims(inputs, axis=2)\n",
        "    #print(x.shape)\n",
        "    x = MFC('A', 1, fm_list[0])(x)\n",
        "    #print(x.shape)\n",
        "    x = MFC('B',fm_list[0],fm_list[1])(x)\n",
        "    #print(x.shape)\n",
        "    x = MFC('B',fm_list[1],fm_list[2])(x)\n",
        "    #print(x.shape)\n",
        "    x = MFC('B',fm_list[2],fm_list[3])(x)\n",
        "    #print(x.shape)\n",
        "    x = MFC('B',fm_list[3],B)(x)\n",
        "    #print(x.shape)\n",
        "    x = tf.nn.softmax(x)\n",
        "    model = tf.keras.Model(inputs=inputs, outputs=x)\n",
        "    \n",
        "    return model\n",
        "\n",
        "encoder = make_encoder()\n",
        "decoder = make_decoder()\n",
        "estimator = make_estimator()"
      ],
      "execution_count": null,
      "outputs": [
        {
          "output_type": "stream",
          "text": [
            "\n",
            "make_estimator\n"
          ],
          "name": "stdout"
        }
      ]
    },
    {
      "cell_type": "code",
      "metadata": {
        "id": "5eMDz2ZfYKXa",
        "outputId": "673e8139-c362-4eaa-adfc-3c2cbc370e79",
        "colab": {
          "base_uri": "https://localhost:8080/",
          "height": 1000
        }
      },
      "source": [
        "encoder.summary()"
      ],
      "execution_count": null,
      "outputs": [
        {
          "output_type": "stream",
          "text": [
            "Model: \"model\"\n",
            "__________________________________________________________________________________________________\n",
            "Layer (type)                    Output Shape         Param #     Connected to                     \n",
            "==================================================================================================\n",
            "inputs (InputLayer)             [(None, 784)]        0                                            \n",
            "__________________________________________________________________________________________________\n",
            "tf_op_layer_Reshape (TensorFlow [(None, 28, 28, 1)]  0           inputs[0][0]                     \n",
            "__________________________________________________________________________________________________\n",
            "conv2d (Conv2D)                 (None, 28, 28, 32)   320         tf_op_layer_Reshape[0][0]        \n",
            "__________________________________________________________________________________________________\n",
            "batch_normalization (BatchNorma (None, 28, 28, 32)   128         conv2d[0][0]                     \n",
            "__________________________________________________________________________________________________\n",
            "leaky_re_lu (LeakyReLU)         (None, 28, 28, 32)   0           batch_normalization[0][0]        \n",
            "__________________________________________________________________________________________________\n",
            "conv2d_1 (Conv2D)               (None, 14, 14, 32)   1056        leaky_re_lu[0][0]                \n",
            "__________________________________________________________________________________________________\n",
            "conv2d_2 (Conv2D)               (None, 14, 14, 32)   320         tf_op_layer_Reshape[0][0]        \n",
            "__________________________________________________________________________________________________\n",
            "batch_normalization_1 (BatchNor (None, 14, 14, 32)   128         conv2d_1[0][0]                   \n",
            "__________________________________________________________________________________________________\n",
            "batch_normalization_2 (BatchNor (None, 14, 14, 32)   128         conv2d_2[0][0]                   \n",
            "__________________________________________________________________________________________________\n",
            "add (Add)                       (None, 14, 14, 32)   0           batch_normalization_1[0][0]      \n",
            "                                                                 batch_normalization_2[0][0]      \n",
            "__________________________________________________________________________________________________\n",
            "leaky_re_lu_1 (LeakyReLU)       (None, 14, 14, 32)   0           add[0][0]                        \n",
            "__________________________________________________________________________________________________\n",
            "conv2d_3 (Conv2D)               (None, 14, 14, 32)   9248        leaky_re_lu_1[0][0]              \n",
            "__________________________________________________________________________________________________\n",
            "batch_normalization_3 (BatchNor (None, 14, 14, 32)   128         conv2d_3[0][0]                   \n",
            "__________________________________________________________________________________________________\n",
            "leaky_re_lu_2 (LeakyReLU)       (None, 14, 14, 32)   0           batch_normalization_3[0][0]      \n",
            "__________________________________________________________________________________________________\n",
            "conv2d_4 (Conv2D)               (None, 7, 7, 32)     1056        leaky_re_lu_2[0][0]              \n",
            "__________________________________________________________________________________________________\n",
            "conv2d_5 (Conv2D)               (None, 7, 7, 32)     9248        leaky_re_lu_1[0][0]              \n",
            "__________________________________________________________________________________________________\n",
            "batch_normalization_4 (BatchNor (None, 7, 7, 32)     128         conv2d_4[0][0]                   \n",
            "__________________________________________________________________________________________________\n",
            "batch_normalization_5 (BatchNor (None, 7, 7, 32)     128         conv2d_5[0][0]                   \n",
            "__________________________________________________________________________________________________\n",
            "add_1 (Add)                     (None, 7, 7, 32)     0           batch_normalization_4[0][0]      \n",
            "                                                                 batch_normalization_5[0][0]      \n",
            "__________________________________________________________________________________________________\n",
            "leaky_re_lu_3 (LeakyReLU)       (None, 7, 7, 32)     0           add_1[0][0]                      \n",
            "__________________________________________________________________________________________________\n",
            "tf_op_layer_Reshape_1 (TensorFl [(None, 1568)]       0           leaky_re_lu_3[0][0]              \n",
            "__________________________________________________________________________________________________\n",
            "dense (Dense)                   (None, 64)           100416      tf_op_layer_Reshape_1[0][0]      \n",
            "__________________________________________________________________________________________________\n",
            "batch_normalization_6 (BatchNor (None, 64)           256         dense[0][0]                      \n",
            "__________________________________________________________________________________________________\n",
            "leaky_re_lu_4 (LeakyReLU)       (None, 64)           0           batch_normalization_6[0][0]      \n",
            "__________________________________________________________________________________________________\n",
            "dense_1 (Dense)                 (None, 32)           2080        leaky_re_lu_4[0][0]              \n",
            "==================================================================================================\n",
            "Total params: 124,768\n",
            "Trainable params: 124,256\n",
            "Non-trainable params: 512\n",
            "__________________________________________________________________________________________________\n"
          ],
          "name": "stdout"
        }
      ]
    },
    {
      "cell_type": "code",
      "metadata": {
        "id": "NN6nLG6ZYKXc",
        "outputId": "3fd9f0c6-1188-4d7c-9be5-56f138e30759",
        "colab": {
          "base_uri": "https://localhost:8080/",
          "height": 1000
        }
      },
      "source": [
        "decoder.summary()"
      ],
      "execution_count": null,
      "outputs": [
        {
          "output_type": "stream",
          "text": [
            "Model: \"model_1\"\n",
            "__________________________________________________________________________________________________\n",
            "Layer (type)                    Output Shape         Param #     Connected to                     \n",
            "==================================================================================================\n",
            "inputs (InputLayer)             [(None, 32)]         0                                            \n",
            "__________________________________________________________________________________________________\n",
            "dense_2 (Dense)                 (None, 64)           2112        inputs[0][0]                     \n",
            "__________________________________________________________________________________________________\n",
            "batch_normalization_7 (BatchNor (None, 64)           256         dense_2[0][0]                    \n",
            "__________________________________________________________________________________________________\n",
            "leaky_re_lu_5 (LeakyReLU)       (None, 64)           0           batch_normalization_7[0][0]      \n",
            "__________________________________________________________________________________________________\n",
            "dense_3 (Dense)                 (None, 1568)         101920      leaky_re_lu_5[0][0]              \n",
            "__________________________________________________________________________________________________\n",
            "batch_normalization_8 (BatchNor (None, 1568)         6272        dense_3[0][0]                    \n",
            "__________________________________________________________________________________________________\n",
            "leaky_re_lu_6 (LeakyReLU)       (None, 1568)         0           batch_normalization_8[0][0]      \n",
            "__________________________________________________________________________________________________\n",
            "tf_op_layer_Reshape_2 (TensorFl [(None, 7, 7, 32)]   0           leaky_re_lu_6[0][0]              \n",
            "__________________________________________________________________________________________________\n",
            "conv2d_transpose (Conv2DTranspo (None, 7, 7, 32)     25632       tf_op_layer_Reshape_2[0][0]      \n",
            "__________________________________________________________________________________________________\n",
            "batch_normalization_9 (BatchNor (None, 7, 7, 32)     128         conv2d_transpose[0][0]           \n",
            "__________________________________________________________________________________________________\n",
            "leaky_re_lu_7 (LeakyReLU)       (None, 7, 7, 32)     0           batch_normalization_9[0][0]      \n",
            "__________________________________________________________________________________________________\n",
            "conv2d_6 (Conv2D)               (None, 7, 7, 32)     9248        tf_op_layer_Reshape_2[0][0]      \n",
            "__________________________________________________________________________________________________\n",
            "conv2d_transpose_1 (Conv2DTrans (None, 14, 14, 32)   1056        leaky_re_lu_7[0][0]              \n",
            "__________________________________________________________________________________________________\n",
            "up_sampling2d (UpSampling2D)    (None, 14, 14, 32)   0           conv2d_6[0][0]                   \n",
            "__________________________________________________________________________________________________\n",
            "batch_normalization_10 (BatchNo (None, 14, 14, 32)   128         conv2d_transpose_1[0][0]         \n",
            "__________________________________________________________________________________________________\n",
            "batch_normalization_11 (BatchNo (None, 14, 14, 32)   128         up_sampling2d[0][0]              \n",
            "__________________________________________________________________________________________________\n",
            "add_2 (Add)                     (None, 14, 14, 32)   0           batch_normalization_10[0][0]     \n",
            "                                                                 batch_normalization_11[0][0]     \n",
            "__________________________________________________________________________________________________\n",
            "leaky_re_lu_8 (LeakyReLU)       (None, 14, 14, 32)   0           add_2[0][0]                      \n",
            "__________________________________________________________________________________________________\n",
            "conv2d_transpose_2 (Conv2DTrans (None, 14, 14, 32)   25632       leaky_re_lu_8[0][0]              \n",
            "__________________________________________________________________________________________________\n",
            "batch_normalization_12 (BatchNo (None, 14, 14, 32)   128         conv2d_transpose_2[0][0]         \n",
            "__________________________________________________________________________________________________\n",
            "leaky_re_lu_9 (LeakyReLU)       (None, 14, 14, 32)   0           batch_normalization_12[0][0]     \n",
            "__________________________________________________________________________________________________\n",
            "conv2d_7 (Conv2D)               (None, 14, 14, 32)   9248        leaky_re_lu_8[0][0]              \n",
            "__________________________________________________________________________________________________\n",
            "conv2d_transpose_3 (Conv2DTrans (None, 28, 28, 32)   1056        leaky_re_lu_9[0][0]              \n",
            "__________________________________________________________________________________________________\n",
            "up_sampling2d_1 (UpSampling2D)  (None, 28, 28, 32)   0           conv2d_7[0][0]                   \n",
            "__________________________________________________________________________________________________\n",
            "batch_normalization_13 (BatchNo (None, 28, 28, 32)   128         conv2d_transpose_3[0][0]         \n",
            "__________________________________________________________________________________________________\n",
            "batch_normalization_14 (BatchNo (None, 28, 28, 32)   128         up_sampling2d_1[0][0]            \n",
            "__________________________________________________________________________________________________\n",
            "add_3 (Add)                     (None, 28, 28, 32)   0           batch_normalization_13[0][0]     \n",
            "                                                                 batch_normalization_14[0][0]     \n",
            "__________________________________________________________________________________________________\n",
            "leaky_re_lu_10 (LeakyReLU)      (None, 28, 28, 32)   0           add_3[0][0]                      \n",
            "__________________________________________________________________________________________________\n",
            "conv2d_8 (Conv2D)               (None, 28, 28, 1)    33          leaky_re_lu_10[0][0]             \n",
            "__________________________________________________________________________________________________\n",
            "tf_op_layer_Reshape_3 (TensorFl [(None, 784)]        0           conv2d_8[0][0]                   \n",
            "==================================================================================================\n",
            "Total params: 183,233\n",
            "Trainable params: 179,585\n",
            "Non-trainable params: 3,648\n",
            "__________________________________________________________________________________________________\n"
          ],
          "name": "stdout"
        }
      ]
    },
    {
      "cell_type": "code",
      "metadata": {
        "id": "9ARoK7HgYKXe",
        "outputId": "9d189f43-c66b-49bc-db0b-c9834c12bf25",
        "colab": {
          "base_uri": "https://localhost:8080/",
          "height": 420
        }
      },
      "source": [
        "estimator.summary()"
      ],
      "execution_count": null,
      "outputs": [
        {
          "output_type": "stream",
          "text": [
            "Model: \"model_2\"\n",
            "_________________________________________________________________\n",
            "Layer (type)                 Output Shape              Param #   \n",
            "=================================================================\n",
            "inputs (InputLayer)          [(None, 32)]              0         \n",
            "_________________________________________________________________\n",
            "tf_op_layer_ExpandDims (Tens [(None, 32, 1)]           0         \n",
            "_________________________________________________________________\n",
            "mfc (MFC)                    (None, 32, 32)            32768     \n",
            "_________________________________________________________________\n",
            "mfc_1 (MFC)                  (None, 32, 32)            1048576   \n",
            "_________________________________________________________________\n",
            "mfc_2 (MFC)                  (None, 32, 32)            1048576   \n",
            "_________________________________________________________________\n",
            "mfc_3 (MFC)                  (None, 32, 32)            1048576   \n",
            "_________________________________________________________________\n",
            "mfc_4 (MFC)                  (None, 32, 100)           3276800   \n",
            "_________________________________________________________________\n",
            "tf_op_layer_Softmax (TensorF [(None, 32, 100)]         0         \n",
            "=================================================================\n",
            "Total params: 6,455,296\n",
            "Trainable params: 6,455,296\n",
            "Non-trainable params: 0\n",
            "_________________________________________________________________\n"
          ],
          "name": "stdout"
        }
      ]
    },
    {
      "cell_type": "code",
      "metadata": {
        "id": "sycR4k00YKXg"
      },
      "source": [
        "REC_loss_weight = 1\n",
        "LLK_loss_weight = 0.01\n",
        "\n",
        "cross_entropy = tf.keras.losses.CategoricalCrossentropy()\n",
        "mse = tf.keras.losses.MeanSquaredError()\n",
        "\n",
        "def REC_loss(inputs, reconstruction):\n",
        "    return  mse(inputs, reconstruction)\n",
        "\n",
        "def LLK_loss(z, z_dist):\n",
        "    '''\n",
        "    z : encoder後的結果 N * d (hidden layer units)  \n",
        "    z_dist : autoregressive後的結果 N * d * B \n",
        "    \n",
        "    '''\n",
        "    eps = 1e-16\n",
        "    batch = z.shape[0]\n",
        "    z_dist = tf.clip_by_value(z_dist, eps, 1 - eps)\n",
        "    log_z_dist = tf.math.log(z_dist)\n",
        "\n",
        "    indices = tf.histogram_fixed_width_bins(z, [0.0, 1.0], nbins = B)\n",
        "    indices = tf.one_hot(indices, B)\n",
        "\n",
        "    loss = cross_entropy(y_true = indices, y_pred = log_z_dist)\n",
        "\n",
        "    return loss\n"
      ],
      "execution_count": null,
      "outputs": []
    },
    {
      "cell_type": "code",
      "metadata": {
        "id": "OISrKDBGYKXi"
      },
      "source": [
        "base_lr = 1e-6\n",
        "max_lr = 1e-4\n",
        "\n",
        "n_samples = len(x_train)\n",
        "step_size = 2 * np.ceil(n_samples / batch_size)\n",
        "global_step = 0   \n",
        "\n",
        "m_optimizer = tf.keras.optimizers.Adam(lr=base_lr)"
      ],
      "execution_count": null,
      "outputs": []
    },
    {
      "cell_type": "code",
      "metadata": {
        "id": "5BZC27KEYKXk"
      },
      "source": [
        "@tf.function\n",
        "def update_model(batch_x):\n",
        "\n",
        "    with tf.GradientTape() as m_tape:\n",
        "        encoder_output = encoder(batch_x, training=True)\n",
        "        decoder_output = decoder(encoder_output, training=True)\n",
        "\n",
        "        cpd = estimator(encoder_output, training=True)\n",
        "        \n",
        "        rec_loss = REC_loss(batch_x, decoder_output)\n",
        "        llk_loss = LLK_loss(encoder_output, cpd)  \n",
        "        total_loss = LLK_loss_weight * llk_loss + REC_loss_weight * rec_loss\n",
        "\n",
        "    m_grads = m_tape.gradient(total_loss, encoder.trainable_variables + decoder.trainable_variables + estimator.trainable_variables)\n",
        "    m_optimizer.apply_gradients(zip(m_grads, encoder.trainable_variables + decoder.trainable_variables + estimator.trainable_variables))\n",
        "    \n",
        "    return rec_loss, llk_loss, total_loss\n"
      ],
      "execution_count": null,
      "outputs": []
    },
    {
      "cell_type": "code",
      "metadata": {
        "id": "4jKwwSEtYKXm",
        "outputId": "af660e1c-d057-419c-8f9d-0c1b77698959",
        "colab": {
          "base_uri": "https://localhost:8080/",
          "height": 1000
        }
      },
      "source": [
        "n_epochs = 7500\n",
        "start = 0\n",
        "tolerance = 0\n",
        "\n",
        "rec_loss_list = []\n",
        "llk_loss_list = [] \n",
        "total_loss_list = []\n",
        "pre_loss = np.inf\n",
        "\n",
        "checkpoint_dir = 'train'\n",
        "checkpoint_prefix = os.path.join(checkpoint_dir, \"ckpt\")\n",
        "for epoch in range(n_epochs):\n",
        "    \n",
        "    if epoch % 1000 == 0 :\n",
        "        try:\n",
        "            checkpoint = tf.train.Checkpoint(model = model)\n",
        "            #latest = checkpoint.restore(tf.train.latest_checkpoint(checkpoint_dir))\n",
        "            checkpoint.restore(tf.train.latest_checkpoint(checkpoint_dir))\n",
        "\n",
        "            print('load!!')\n",
        "            \n",
        "        except:\n",
        "            print('continue')\n",
        "    start = time.time()\n",
        "    \n",
        "    if epoch in [5000, 10000, 100000]:\n",
        "        base_lr = base_lr / 2\n",
        "        max_lr = max_lr / 2\n",
        "        step_size = step_size / 2\n",
        "\n",
        "        print('learning rate changed!')\n",
        "    \n",
        "    epoch_rec_loss_avg = tf.metrics.Mean()\n",
        "    epoch_llk_loss_avg = tf.metrics.Mean()\n",
        "    epoch_total_loss_avg = tf.metrics.Mean()\n",
        "\n",
        "    for batch, (batch_x) in enumerate(train_dataset):\n",
        "\n",
        "        rec_loss, llk_loss, total_loss = update_model(batch_x)\n",
        "        \n",
        "        epoch_rec_loss_avg(rec_loss)\n",
        "        epoch_llk_loss_avg(llk_loss)\n",
        "        epoch_total_loss_avg(total_loss)\n",
        "        \n",
        "    rec_loss_list.append(rec_loss)\n",
        "    llk_loss_list.append(llk_loss)\n",
        "    total_loss_list.append(total_loss)\n",
        "\n",
        "    epoch_time = time.time() - start\n",
        "    if epoch % 100 == 0:\n",
        "\n",
        "        print('{:4d}: TIME: {:.2f} rec_loss: {:} llk_loss: {:} total_loss: {:}' \\\n",
        "          .format(epoch, epoch_time,\n",
        "                  epoch_rec_loss_avg.result(),\n",
        "                  epoch_llk_loss_avg.result(),\n",
        "                  epoch_total_loss_avg.result()))\n",
        "        if pre_loss < epoch_llk_loss_avg.result():\n",
        "            tolerance +=1\n",
        "            if tolerance==0:\n",
        "                checkpoint = tf.train.Checkpoint(optimizer = m_optimizer)\n",
        "                checkpoint.save(file_prefix = checkpoint_prefix)\n",
        "            \n",
        "            if tolerance==3:\n",
        "                rec_loss_list.pop([-300])\n",
        "                llk_loss_list.pop([-300])\n",
        "                total_loss_list.pop([-300])\n",
        "                break\n",
        "        else:\n",
        "            tolerance = 0\n",
        "            \n",
        "        if abs(epoch_llk_loss_avg.result()-pre_loss) < 1e-8:\n",
        "            break\n",
        "        else:\n",
        "            pre_loss = epoch_llk_loss_avg.result()\n"
      ],
      "execution_count": null,
      "outputs": [
        {
          "output_type": "stream",
          "text": [
            "continue\n",
            "   0: TIME: 13.17 rec_loss: 3.3181891441345215 llk_loss: 4.605199337005615 total_loss: 3.364241123199463\n",
            " 100: TIME: 0.57 rec_loss: 1.0145379304885864 llk_loss: 4.605106830596924 total_loss: 1.060589075088501\n",
            " 200: TIME: 0.59 rec_loss: 0.326810747385025 llk_loss: 4.605007648468018 total_loss: 0.372860848903656\n",
            " 300: TIME: 0.57 rec_loss: 0.12752367556095123 llk_loss: 4.604874610900879 total_loss: 0.17357243597507477\n",
            " 400: TIME: 0.57 rec_loss: 0.07282930612564087 llk_loss: 4.604641437530518 total_loss: 0.11887571960687637\n",
            " 500: TIME: 0.57 rec_loss: 0.05477648228406906 llk_loss: 4.604190349578857 total_loss: 0.10081837326288223\n",
            " 600: TIME: 0.57 rec_loss: 0.04703836888074875 llk_loss: 4.60325288772583 total_loss: 0.09307089447975159\n",
            " 700: TIME: 0.59 rec_loss: 0.042483970522880554 llk_loss: 4.601064205169678 total_loss: 0.08849462121725082\n",
            " 800: TIME: 0.59 rec_loss: 0.039674703031778336 llk_loss: 4.596041679382324 total_loss: 0.08563511073589325\n",
            " 900: TIME: 0.58 rec_loss: 0.03773198276758194 llk_loss: 4.587608814239502 total_loss: 0.08360808342695236\n",
            "continue\n",
            "1000: TIME: 0.57 rec_loss: 0.0362173467874527 llk_loss: 4.577868938446045 total_loss: 0.08199603855609894\n",
            "1100: TIME: 0.58 rec_loss: 0.034720905125141144 llk_loss: 4.568925380706787 total_loss: 0.08041016012430191\n",
            "1200: TIME: 0.57 rec_loss: 0.033809661865234375 llk_loss: 4.561070919036865 total_loss: 0.07942036539316177\n",
            "1300: TIME: 0.57 rec_loss: 0.032760582864284515 llk_loss: 4.5540924072265625 total_loss: 0.07830150425434113\n",
            "1400: TIME: 0.58 rec_loss: 0.03202395141124725 llk_loss: 4.547251224517822 total_loss: 0.07749646157026291\n",
            "1500: TIME: 0.57 rec_loss: 0.03129870072007179 llk_loss: 4.5415472984313965 total_loss: 0.0767141804099083\n",
            "1600: TIME: 0.57 rec_loss: 0.030794113874435425 llk_loss: 4.535706520080566 total_loss: 0.07615116983652115\n",
            "1700: TIME: 0.56 rec_loss: 0.030188895761966705 llk_loss: 4.529907703399658 total_loss: 0.07548795640468597\n",
            "1800: TIME: 0.57 rec_loss: 0.029742306098341942 llk_loss: 4.52448844909668 total_loss: 0.07498719543218613\n",
            "1900: TIME: 0.58 rec_loss: 0.029294561594724655 llk_loss: 4.519394397735596 total_loss: 0.07448851317167282\n",
            "continue\n",
            "2000: TIME: 0.57 rec_loss: 0.02874883823096752 llk_loss: 4.515212059020996 total_loss: 0.07390095293521881\n",
            "2100: TIME: 0.57 rec_loss: 0.028364093974232674 llk_loss: 4.510501384735107 total_loss: 0.07346910238265991\n",
            "2200: TIME: 0.57 rec_loss: 0.027989061549305916 llk_loss: 4.505992412567139 total_loss: 0.07304899394512177\n",
            "2300: TIME: 0.57 rec_loss: 0.027774212881922722 llk_loss: 4.502457141876221 total_loss: 0.07279878109693527\n",
            "2400: TIME: 0.57 rec_loss: 0.027388038113713264 llk_loss: 4.497923851013184 total_loss: 0.07236728817224503\n",
            "2500: TIME: 0.57 rec_loss: 0.027035873383283615 llk_loss: 4.494035720825195 total_loss: 0.07197622954845428\n",
            "2600: TIME: 0.56 rec_loss: 0.02688322588801384 llk_loss: 4.490375518798828 total_loss: 0.07178697735071182\n",
            "2700: TIME: 0.56 rec_loss: 0.02661266177892685 llk_loss: 4.48658561706543 total_loss: 0.07147852331399918\n",
            "2800: TIME: 0.57 rec_loss: 0.026295021176338196 llk_loss: 4.482785701751709 total_loss: 0.07112287729978561\n",
            "2900: TIME: 0.57 rec_loss: 0.026063403114676476 llk_loss: 4.479933738708496 total_loss: 0.07086274027824402\n",
            "continue\n",
            "3000: TIME: 0.57 rec_loss: 0.02603766694664955 llk_loss: 4.4765944480896 total_loss: 0.07080361247062683\n",
            "3100: TIME: 0.57 rec_loss: 0.025774603709578514 llk_loss: 4.473932266235352 total_loss: 0.07051393389701843\n",
            "3200: TIME: 0.57 rec_loss: 0.025477295741438866 llk_loss: 4.470369815826416 total_loss: 0.0701809972524643\n",
            "3300: TIME: 0.57 rec_loss: 0.02532288059592247 llk_loss: 4.465479850769043 total_loss: 0.06997767090797424\n",
            "3400: TIME: 0.57 rec_loss: 0.02508186362683773 llk_loss: 4.462363243103027 total_loss: 0.06970547884702682\n",
            "3500: TIME: 0.58 rec_loss: 0.025066206231713295 llk_loss: 4.459278583526611 total_loss: 0.06965898722410202\n",
            "3600: TIME: 0.57 rec_loss: 0.02471018396317959 llk_loss: 4.456353664398193 total_loss: 0.0692737028002739\n",
            "3700: TIME: 0.58 rec_loss: 0.024723440408706665 llk_loss: 4.452816963195801 total_loss: 0.06925161182880402\n",
            "3800: TIME: 0.57 rec_loss: 0.024397367611527443 llk_loss: 4.450112342834473 total_loss: 0.06889849901199341\n",
            "3900: TIME: 0.57 rec_loss: 0.024411555379629135 llk_loss: 4.44698429107666 total_loss: 0.06888140738010406\n",
            "continue\n",
            "4000: TIME: 0.57 rec_loss: 0.02420441433787346 llk_loss: 4.444962978363037 total_loss: 0.06865403801202774\n",
            "4100: TIME: 0.57 rec_loss: 0.024126896634697914 llk_loss: 4.442477703094482 total_loss: 0.06855165958404541\n",
            "4200: TIME: 0.57 rec_loss: 0.02411750517785549 llk_loss: 4.439906120300293 total_loss: 0.0685165748000145\n",
            "4300: TIME: 0.56 rec_loss: 0.023786896839737892 llk_loss: 4.437725067138672 total_loss: 0.0681641474366188\n",
            "4400: TIME: 0.57 rec_loss: 0.023737266659736633 llk_loss: 4.435123920440674 total_loss: 0.06808851659297943\n",
            "4500: TIME: 0.57 rec_loss: 0.023654870688915253 llk_loss: 4.433103561401367 total_loss: 0.0679859146475792\n",
            "4600: TIME: 0.57 rec_loss: 0.02365175075829029 llk_loss: 4.431051731109619 total_loss: 0.06796226650476456\n",
            "4700: TIME: 0.57 rec_loss: 0.02360963076353073 llk_loss: 4.428269863128662 total_loss: 0.06789231300354004\n",
            "4800: TIME: 0.58 rec_loss: 0.0233173705637455 llk_loss: 4.426050662994385 total_loss: 0.06757786870002747\n",
            "4900: TIME: 0.57 rec_loss: 0.02318721078336239 llk_loss: 4.423891067504883 total_loss: 0.06742610782384872\n",
            "continue\n",
            "learning rate changed!\n",
            "5000: TIME: 0.57 rec_loss: 0.023163799196481705 llk_loss: 4.422243595123291 total_loss: 0.06738623231649399\n",
            "5100: TIME: 0.57 rec_loss: 0.023113185539841652 llk_loss: 4.420322895050049 total_loss: 0.06731642037630081\n",
            "5200: TIME: 0.57 rec_loss: 0.022932594642043114 llk_loss: 4.418302059173584 total_loss: 0.06711560487747192\n",
            "5300: TIME: 0.57 rec_loss: 0.023027949035167694 llk_loss: 4.41594123840332 total_loss: 0.0671873614192009\n",
            "5400: TIME: 0.57 rec_loss: 0.02273436263203621 llk_loss: 4.414236068725586 total_loss: 0.06687672436237335\n",
            "5500: TIME: 0.57 rec_loss: 0.02270197682082653 llk_loss: 4.412583351135254 total_loss: 0.06682781130075455\n",
            "5600: TIME: 0.56 rec_loss: 0.022596292197704315 llk_loss: 4.410022258758545 total_loss: 0.06669650226831436\n",
            "5700: TIME: 0.59 rec_loss: 0.022587429732084274 llk_loss: 4.407466411590576 total_loss: 0.06666209548711777\n",
            "5800: TIME: 0.57 rec_loss: 0.022487567737698555 llk_loss: 4.405993461608887 total_loss: 0.06654749810695648\n",
            "5900: TIME: 0.57 rec_loss: 0.02246636524796486 llk_loss: 4.404155731201172 total_loss: 0.06650792062282562\n",
            "continue\n",
            "6000: TIME: 0.57 rec_loss: 0.022341307252645493 llk_loss: 4.402223587036133 total_loss: 0.06636354327201843\n",
            "6100: TIME: 0.57 rec_loss: 0.022272786125540733 llk_loss: 4.399593353271484 total_loss: 0.06626871228218079\n",
            "6200: TIME: 0.57 rec_loss: 0.0222637839615345 llk_loss: 4.39815092086792 total_loss: 0.06624528765678406\n",
            "6300: TIME: 0.57 rec_loss: 0.022054417058825493 llk_loss: 4.3962907791137695 total_loss: 0.06601732224225998\n",
            "6400: TIME: 0.57 rec_loss: 0.02200830914080143 llk_loss: 4.393899917602539 total_loss: 0.06594730913639069\n",
            "6500: TIME: 0.57 rec_loss: 0.02203514240682125 llk_loss: 4.392751216888428 total_loss: 0.06596265733242035\n",
            "6600: TIME: 0.57 rec_loss: 0.021935977041721344 llk_loss: 4.389923095703125 total_loss: 0.06583520770072937\n",
            "6700: TIME: 0.57 rec_loss: 0.021936262026429176 llk_loss: 4.387908458709717 total_loss: 0.06581534445285797\n",
            "6800: TIME: 0.57 rec_loss: 0.021768497303128242 llk_loss: 4.385847568511963 total_loss: 0.06562697887420654\n",
            "6900: TIME: 0.58 rec_loss: 0.021695513278245926 llk_loss: 4.3835883140563965 total_loss: 0.06553138792514801\n",
            "continue\n",
            "7000: TIME: 0.57 rec_loss: 0.02168399468064308 llk_loss: 4.382185459136963 total_loss: 0.06550584733486176\n",
            "7100: TIME: 0.57 rec_loss: 0.021721357479691505 llk_loss: 4.379078388214111 total_loss: 0.06551214307546616\n",
            "7200: TIME: 0.57 rec_loss: 0.021458139643073082 llk_loss: 4.3772687911987305 total_loss: 0.0652308315038681\n",
            "7300: TIME: 0.57 rec_loss: 0.021504245698451996 llk_loss: 4.375430107116699 total_loss: 0.06525854766368866\n",
            "7400: TIME: 0.57 rec_loss: 0.021433185786008835 llk_loss: 4.373788356781006 total_loss: 0.06517107039690018\n"
          ],
          "name": "stdout"
        }
      ]
    },
    {
      "cell_type": "code",
      "metadata": {
        "id": "AvMrnxaZYKXo",
        "outputId": "076a1a6d-d2a8-436a-88a3-08d9a07301f6",
        "colab": {
          "base_uri": "https://localhost:8080/",
          "height": 677
        }
      },
      "source": [
        "fig = plt.figure(figsize=(15, 5))\n",
        "plt.plot(rec_loss_list, label = 'rec_loss')\n",
        "plt.plot(llk_loss_list, label = 'llk_loss')\n",
        "plt.plot(total_loss_list, label = 'total')\n",
        "plt.legend()\n",
        "plt.show()\n",
        "fig, (ax1, ax2, ax3) = plt.subplots(1, 3,figsize=(25, 5))\n",
        "ax1.set_title('rescontruction loss', fontsize=14)\n",
        "ax1.plot(rec_loss_list, label = 'rec_loss')\n",
        "ax2.set_title('loglikelihood loss', fontsize=14)\n",
        "ax2.plot(llk_loss_list, label = 'llk_loss')\n",
        "ax3.set_title('total', fontsize=14)\n",
        "ax3.plot(total_loss_list, label = 'total')\n",
        "plt.legend()"
      ],
      "execution_count": null,
      "outputs": [
        {
          "output_type": "display_data",
          "data": {
            "image/png": "[encoded data removed]",
            "text/plain": [
              "<Figure size 1080x360 with 1 Axes>"
            ]
          },
          "metadata": {
            "tags": []
          }
        },
        {
          "output_type": "execute_result",
          "data": {
            "text/plain": [
              "<matplotlib.legend.Legend at 0x7f2053fb3d30>"
            ]
          },
          "metadata": {
            "tags": []
          },
          "execution_count": 28
        },
        {
          "output_type": "display_data",
          "data": {
            "image/png": "[encoded data removed]",
            "text/plain": [
              "<Figure size 1800x360 with 3 Axes>"
            ]
          },
          "metadata": {
            "tags": []
          }
        }
      ]
    },
    {
      "cell_type": "code",
      "metadata": {
        "id": "zzjltJkFYKXq"
      },
      "source": [
        "def result_model(batch_x):\n",
        "\n",
        "    encoder_output = encoder(batch_x, training = False)\n",
        "    decoder_output = decoder(encoder_output, training = False)\n",
        "\n",
        "    cpd = estimator(encoder_output, training = False)\n",
        "\n",
        "    rec_loss = REC_loss(batch_x, decoder_output)\n",
        "    llk_loss = LLK_loss(encoder_output, cpd)  \n",
        "    \n",
        "    return rec_loss, llk_loss"
      ],
      "execution_count": null,
      "outputs": []
    },
    {
      "cell_type": "code",
      "metadata": {
        "id": "6GN1A5nkYKXs"
      },
      "source": [
        "def compute_normalizing_coefficients(x_val):\n",
        "    # type: (int) -> Tuple[float, float, float, float]\n",
        "    \"\"\"\n",
        "    Computes normalizing coeffients for the computation of the Novelty score (Eq. 9-10).\n",
        "    :param cl: the class to be considered normal.\n",
        "    :return: a tuple of normalizing coefficients in the form (llk_min, llk_max, rec_min, rec_max).\n",
        "    \"\"\"\n",
        "\n",
        "    sample_llk = np.zeros(shape=(len(x_val),))\n",
        "    sample_rec = np.zeros(shape=(len(x_val),))\n",
        "    for i in range(len(x_val)):\n",
        "        \n",
        "        loss_rec, loss_llk = result_model(x_val[i].reshape(-1, img_size * img_size))\n",
        "\n",
        "        sample_llk[i] = - loss_llk\n",
        "        sample_rec[i] = - loss_rec \n",
        "        i = i + 1\n",
        "    \n",
        "    return sample_llk.min(), sample_llk.max(), sample_rec.min(), sample_rec.max()"
      ],
      "execution_count": null,
      "outputs": []
    },
    {
      "cell_type": "code",
      "metadata": {
        "id": "f13RQsUCYKXu"
      },
      "source": [
        "def novelty_score(sample_llk_norm, sample_rec_norm):\n",
        "    # type: (np.ndarray, np.ndarray) -> np.ndarray\n",
        "    \"\"\"\n",
        "    Computes the normalized novelty score given likelihood scores, reconstruction scores\n",
        "    and normalization coefficients (Eq. 9-10).\n",
        "    :param sample_llk_norm: array of (normalized) log-likelihood scores.\n",
        "    :param sample_rec_norm: array of (normalized) reconstruction scores.\n",
        "    :return: array of novelty scores.\n",
        "    \"\"\"\n",
        "\n",
        "    # Sum\n",
        "    ns = sample_llk_norm + sample_rec_norm\n",
        "\n",
        "    return ns"
      ],
      "execution_count": null,
      "outputs": []
    },
    {
      "cell_type": "code",
      "metadata": {
        "id": "xl0lz_20YKXx"
      },
      "source": [
        "def normalize(samples, min, max):\n",
        "    # type: (np.ndarray, float, float) -> np.ndarray\n",
        "    \"\"\"\n",
        "    Normalize scores as in Eq. 10\n",
        "    :param samples: the scores to be normalized.\n",
        "    :param min: the minimum of the desired scores.\n",
        "    :param max: the maximum of the desired scores.\n",
        "    :return: the normalized scores\n",
        "    \"\"\"\n",
        "    return (samples - min) / (max - min)"
      ],
      "execution_count": null,
      "outputs": []
    },
    {
      "cell_type": "code",
      "metadata": {
        "id": "AzPyvWDyYKX0"
      },
      "source": [
        "def Detection(label, x_test, y_test, x_val):\n",
        "    \n",
        "    min_llk, max_llk, min_rec, max_rec = compute_normalizing_coefficients(x_val)\n",
        "    \n",
        "    sample_llk = np.zeros(shape=(len(x_test),))\n",
        "    sample_rec = np.zeros(shape=(len(x_test),))\n",
        "    sample_y = np.zeros(shape=(len(x_test),))\n",
        "    for i in range(len(x_test)):\n",
        "        \n",
        "        loss_rec, loss_llk = result_model(x_test[i].reshape(-1, img_size * img_size))\n",
        "\n",
        "        sample_llk[i] = - loss_llk\n",
        "        sample_rec[i] = - loss_rec\n",
        "        sample_y[i] = (y_test[i] == label)\n",
        "        i = i + 1\n",
        "    \n",
        "\n",
        "    # Normalize scores\n",
        "    sample_llk = normalize(sample_llk, min_llk, max_llk).astype('f')\n",
        "    sample_rec = normalize(sample_rec, min_rec, max_rec).astype('f')\n",
        "\n",
        "    # Compute the normalized novelty score\n",
        "    sample_ns = novelty_score(sample_llk, sample_rec).astype('f')\n",
        "\n",
        "    # Compute AUROC for this class\n",
        "    this_class_metrics = [\n",
        "        roc_auc_score(sample_y, sample_llk),  # likelihood metric\n",
        "        roc_auc_score(sample_y, sample_rec),  # reconstruction metric\n",
        "        roc_auc_score(sample_y, sample_ns)    # novelty score\n",
        "    ]\n",
        "    return  this_class_metrics"
      ],
      "execution_count": null,
      "outputs": []
    },
    {
      "cell_type": "code",
      "metadata": {
        "id": "3hMVQX8-YKX_",
        "outputId": "4bb0084b-2681-49c2-f4e8-df7686e3184c",
        "colab": {
          "base_uri": "https://localhost:8080/",
          "height": 34
        }
      },
      "source": [
        "Detection(3, x_test, y_test, x_val)"
      ],
      "execution_count": null,
      "outputs": [
        {
          "output_type": "execute_result",
          "data": {
            "text/plain": [
              "[0.6478294915142238, 0.8675269551426779, 0.8302052335378144]"
            ]
          },
          "metadata": {
            "tags": []
          },
          "execution_count": 27
        }
      ]
    }
  ]
}